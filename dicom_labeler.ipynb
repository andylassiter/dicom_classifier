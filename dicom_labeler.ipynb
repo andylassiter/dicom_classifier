{
 "cells": [
  {
   "cell_type": "code",
   "execution_count": 6,
   "id": "95b5955e-777b-4d05-abd5-d79d73ba1db0",
   "metadata": {},
   "outputs": [
    {
     "data": {
      "application/vnd.jupyter.widget-view+json": {
       "model_id": "7dd9f0cca290485cb686534d47aa6aa6",
       "version_major": 2,
       "version_minor": 0
      },
      "text/plain": [
       "FileUpload(value=(), accept='.json', description='Upload JSON')"
      ]
     },
     "metadata": {},
     "output_type": "display_data"
    },
    {
     "data": {
      "application/vnd.jupyter.widget-view+json": {
       "model_id": "3adba909b9e64e729a3f92147ed61095",
       "version_major": 2,
       "version_minor": 0
      },
      "text/plain": [
       "FileUpload(value=(), accept='.csv', description='Upload classification csv')"
      ]
     },
     "metadata": {},
     "output_type": "display_data"
    },
    {
     "data": {
      "application/vnd.jupyter.widget-view+json": {
       "model_id": "dc5b36425ded4684bcf03dddc73a6e1d",
       "version_major": 2,
       "version_minor": 0
      },
      "text/plain": [
       "Output()"
      ]
     },
     "metadata": {},
     "output_type": "display_data"
    },
    {
     "data": {
      "application/vnd.jupyter.widget-view+json": {
       "model_id": "086e232a5cc047f6ae3a35d355f7a1c0",
       "version_major": 2,
       "version_minor": 0
      },
      "text/plain": [
       "Text(value='/data/MIRRIR/M19021_glioma2', description='DICOM Directory:')"
      ]
     },
     "metadata": {},
     "output_type": "display_data"
    },
    {
     "data": {
      "application/vnd.jupyter.widget-view+json": {
       "model_id": "2ddc8286cc5b438b84ed28041f8c7991",
       "version_major": 2,
       "version_minor": 0
      },
      "text/plain": [
       "Button(description='Collect Files', style=ButtonStyle())"
      ]
     },
     "metadata": {},
     "output_type": "display_data"
    },
    {
     "data": {
      "application/vnd.jupyter.widget-view+json": {
       "model_id": "ecb8c59418694d68ab9147fe4f991d60",
       "version_major": 2,
       "version_minor": 0
      },
      "text/plain": [
       "Output()"
      ]
     },
     "metadata": {},
     "output_type": "display_data"
    },
    {
     "data": {
      "application/vnd.jupyter.widget-view+json": {
       "model_id": "dc772fe753084347aa02f0675794f6c1",
       "version_major": 2,
       "version_minor": 0
      },
      "text/plain": [
       "HBox(children=(VBox(children=(Textarea(value='', description='DICOM:', layout=Layout(height='300px', width='10…"
      ]
     },
     "metadata": {},
     "output_type": "display_data"
    },
    {
     "data": {
      "application/vnd.jupyter.widget-view+json": {
       "model_id": "ea0324ae27b741bba5ef2516dd5ccf31",
       "version_major": 2,
       "version_minor": 0
      },
      "text/plain": [
       "Button(description='Next', style=ButtonStyle())"
      ]
     },
     "metadata": {},
     "output_type": "display_data"
    },
    {
     "data": {
      "application/vnd.jupyter.widget-view+json": {
       "model_id": "a425921350ec4eb99d6887d66de316bd",
       "version_major": 2,
       "version_minor": 0
      },
      "text/plain": [
       "Output()"
      ]
     },
     "metadata": {},
     "output_type": "display_data"
    },
    {
     "data": {
      "application/vnd.jupyter.widget-view+json": {
       "model_id": "86a3a3399630467382a546d61203a76f",
       "version_major": 2,
       "version_minor": 0
      },
      "text/plain": [
       "HBox(children=(Dropdown(description='Type:', options=(), value=None), Button(description='Finish', style=Butto…"
      ]
     },
     "metadata": {},
     "output_type": "display_data"
    },
    {
     "data": {
      "application/vnd.jupyter.widget-view+json": {
       "model_id": "a6ab6003172e41a69b5433aa3413c7e6",
       "version_major": 2,
       "version_minor": 0
      },
      "text/plain": [
       "Output()"
      ]
     },
     "metadata": {},
     "output_type": "display_data"
    },
    {
     "data": {
      "application/vnd.jupyter.widget-view+json": {
       "model_id": "df7e4ea6089d4519b2fb17d420e6cc2b",
       "version_major": 2,
       "version_minor": 0
      },
      "text/plain": [
       "HTML(value='')"
      ]
     },
     "metadata": {},
     "output_type": "display_data"
    }
   ],
   "source": [
    "import ipywidgets as widgets\n",
    "from IPython.display import display, clear_output\n",
    "import os,json,base64,io\n",
    "import pydicom\n",
    "import pandas as pd\n",
    "from io import BytesIO,StringIO\n",
    "import base64\n",
    "from PIL import Image\n",
    "import numpy as np\n",
    "\n",
    "\n",
    "from IPython.display import display\n",
    "from ipywidgets import widgets, Output\n",
    "\n",
    "classification_dict={}\n",
    "\n",
    "# Function to handle the upload of the JSON file\n",
    "def upload_json(change):\n",
    "    global ontology_types\n",
    "\n",
    "    try:        \n",
    "        # Check if there is an uploaded file\n",
    "        if upload_button.value:\n",
    "            # Get the file info for the first uploaded file\n",
    "            file_info = upload_button.value[-1]\n",
    "            file_content = file_info['content']\n",
    "    \n",
    "            # Convert memoryview to bytes, then decode to string\n",
    "            json_str = bytes(file_content).decode('utf-8')\n",
    "    \n",
    "            # Parse JSON string manually\n",
    "            parsed_json = json.loads(json_str)\n",
    "    \n",
    "            # Assuming the JSON is a list of types\n",
    "            ontology_types = parsed_json['scan_types'] if isinstance(parsed_json['scan_types'], list) else []\n",
    "    \n",
    "            ontology_dropdown.options = ontology_types\n",
    "    except Exception as e:\n",
    "        display(f\"Error: {e}\")\n",
    "\n",
    "# Function to handle the upload of the JSON file\n",
    "def upload_file_classes(change):\n",
    "    global ontology_types\n",
    "    try:\n",
    "        \n",
    "        # Check if there is an uploaded file\n",
    "        if upload_button.value:\n",
    "            # Get the file info for the first uploaded file\n",
    "            file_info = upload_button.value[-1]\n",
    "            file_content = file_info['content']\n",
    "    \n",
    "            # Convert memoryview to bytes, then decode to string\n",
    "            json_str = bytes(file_content).decode('utf-8')\n",
    "    \n",
    "            # Parse JSON string manually\n",
    "            parsed_json = json.loads(json_str)\n",
    "    \n",
    "            # Assuming the JSON is a list of types\n",
    "            ontology_types = parsed_json['scan_types'] if isinstance(parsed_json['scan_types'], list) else []\n",
    "    \n",
    "            ontology_dropdown.options = ontology_types\n",
    "    except Exception as e:\n",
    "        display(f\"Error: {e}\")\n",
    "\n",
    "\n",
    "\n",
    "# Function to handle the collection of DICOM files\n",
    "def collect_files(b):    \n",
    "    #print('collecting files')\n",
    "    global dicom_files, current_index\n",
    "    root_dir = text_input.value\n",
    "\n",
    "    for root, dirs, files in os.walk(root_dir):\n",
    "        # Filter and sort DICOM files in each directory\n",
    "        dicom_files_in_dir = [f for f in files if is_dicom_file(os.path.join(root, f))]\n",
    "        if dicom_files_in_dir:\n",
    "            dicom_files_in_dir.sort()\n",
    "            middle_file = dicom_files_in_dir[len(dicom_files_in_dir) // 2]  # Pick the middle file\n",
    "            yield os.path.join(root, middle_file)\n",
    "\n",
    "\n",
    "def is_dicom_file(file_path):\n",
    "    try:\n",
    "        # Attempt to read only the file's metadata\n",
    "        pydicom.dcmread(file_path, stop_before_pixels=True)\n",
    "        return True\n",
    "    except:\n",
    "        return False\n",
    "\n",
    "\n",
    "def get_file_classification_data(file_path):\n",
    "    ind=classification_dict['files'].index(file_path)\n",
    "    out_dict={}\n",
    "    if ind<0: return out_dict\n",
    "        \n",
    "    for key in classification_dict.keys():\n",
    "        out_dict[key]=classification_dict[key][ind]\n",
    "\n",
    "    #set the dropdown value.\n",
    "    if 'labels1' in out_dict:\n",
    "        label1=classification_dict['labels1'][ind]\n",
    "        if label1 in ontology_dropdown.options:\n",
    "            ontology_dropdown.value=label1\n",
    "    \n",
    "    return out_dict\n",
    "\n",
    "def format_file_classification_string(d):\n",
    "    str=''\n",
    "    if not d: return str;\n",
    "    str+=\"L1: {}, p={:0.2f}\\n\".format(d['labels1'],d['probs1'])\n",
    "    str+=\"L2: {}, p={:0.2f}\\n\".format(d['labels2'],d['probs2'])\n",
    "    str+=\"GI: {:0.2f}, MC: {:0.2f}\".format(d['pred_gini_impurity'],d['pred_margin_confidence'])\n",
    "    return str\n",
    "    \n",
    "# Function to display the DICOM file\n",
    "def display_file(file_path):    \n",
    "    global file_prefix\n",
    "    try:        \n",
    "        image_panel.clear_output(wait=False)\n",
    "        metadata_text1.value=\"\"\n",
    "        metadata_text2.value=\"\"\n",
    "        \n",
    "        with open(file_path, 'rb') as f:\n",
    "            ds = pydicom.dcmread(f)\n",
    "            prioritized_tags = ['SeriesDescription', 'ImageType', 'PixelSpacing','SliceThickness']\n",
    "            metadata_str = ''\n",
    "            for tag in prioritized_tags:\n",
    "                if tag in ds:\n",
    "                    metadata_str += f\"{tag}: {ds[tag].value}\\n\"\n",
    "    \n",
    "            # Add the rest of the tags, excluding PixelData\n",
    "            metadata_str += \"\\n\"+\"\\n\".join([f\"{tag}: {ds[tag].value}\" \n",
    "                                       for tag in ds.dir() \n",
    "                                       if hasattr(ds[tag], 'value') and tag not in ['PixelData'] + prioritized_tags])\n",
    "    \n",
    "            metadata_text1.value = metadata_str\n",
    "\n",
    "            #now populate classification panel, if classification is provided.                      \n",
    "            truncated_path=file_path[file_path.startswith(file_prefix) and len(file_prefix):]\n",
    "            metadata_text2.value = format_file_classification_string(get_file_classification_data(truncated_path))\n",
    "\n",
    "            ds.decompress()\n",
    "            # Process the DICOM image\n",
    "            image = ds.pixel_array\n",
    "    \n",
    "            # Handle multi-dimensional images (e.g., 3D or color images)\n",
    "            sh=image.shape\n",
    "            if image.ndim == 4:\n",
    "                # Taking the first slice for simplicity\n",
    "                image=image[sh[2]//2][sh[3]//2]\n",
    "    \n",
    "            elif image.ndim==3:\n",
    "                image=image[sh[2]//2]\n",
    "    \n",
    "            # Normalize and convert to uint8\n",
    "            image = image - np.min(image)\n",
    "            if np.max(image) != 0:\n",
    "                image = image / np.max(image) * 255\n",
    "            image = image.astype(np.uint8)\n",
    "    \n",
    "            # Convert to PIL image\n",
    "            pil_img = Image.fromarray(image)\n",
    "    \n",
    "            # Convert the PIL image to a byte buffer\n",
    "            buffer = io.BytesIO()\n",
    "            pil_img.save(buffer, format=\"JPEG\")\n",
    "            buffer.seek(0)\n",
    "    \n",
    "            # Display the image in the output widget\n",
    "            with image_panel:\n",
    "                #clear_output(wait=True)\n",
    "                display(pil_img)\n",
    "                #\n",
    "                #image_widget = widgets.Image(value=buffer.read(), format='jpeg')\n",
    "                #image_widget.layout.max_width = '400px'  # Set the maximum width\n",
    "                #image_widget.layout.max_height = '400px'  # Set the maximum height\n",
    "                #display(image_widget)\n",
    "    except Exception as e:\n",
    "        display(f\"Image display error: {e}\")\n",
    "\n",
    "\n",
    "# Widgets\n",
    "\n",
    "upload_button = widgets.FileUpload(description='Upload JSON', accept='.json', multiple=False)\n",
    "upload_button.observe(upload_json, names='data')\n",
    "\n",
    "upload_classification_button=widgets.FileUpload(description='Upload classification csv', accept='.csv', multiple=False)\n",
    "upload_classification_button_output=Output()\n",
    "\n",
    "def upload_classification_file(change):\n",
    "    global classification_dict\n",
    "    global upload_classification_button\n",
    "    \n",
    "    classification_dict.clear()\n",
    "    uc=upload_classification_button\n",
    "    \n",
    "    try:\n",
    "        if uc.value:            \n",
    "            file_content=uc.value[0]['content']\n",
    "            object=BytesIO(file_content)\n",
    "            df=pd.read_csv(object)\n",
    "\n",
    "            # Loop through each column in the DataFrame and add it to the dictionary\n",
    "            for column in df.columns:\n",
    "                # Check the data type of the column and convert to list\n",
    "                if df[column].dtype == 'object':  # For strings\n",
    "                    classification_dict[column] = df[column].astype(str).tolist()\n",
    "                else:  # For real numbers\n",
    "                    classification_dict[column] = df[column].astype(float).tolist()            \n",
    "    except Exception as e: \n",
    "        print(e)\n",
    "\n",
    "upload_classification_button.observe(upload_classification_file, names='value')\n",
    "\n",
    "\n",
    "text_input = widgets.Text(description='DICOM Directory:',value='/data/MIRRIR/archive/M19004_AS')\n",
    "text_input.value='/data/MIRRIR/M19021_glioma2'\n",
    "file_prefix=text_input.value+'/'\n",
    "\n",
    "collect_button = widgets.Button(description='Collect Files')\n",
    "\n",
    "collect_button_output=Output()\n",
    "#@collect_button_output.capture(clear_output=True)\n",
    "file_generator=collect_files(0)\n",
    "\n",
    "@collect_button_output.capture(clear_output=True)\n",
    "def collect_on_click(b):\n",
    "    collect_button_output.clear_output()\n",
    "    upload_json(0)\n",
    "    next_file(b)\n",
    "    \n",
    "collect_button.on_click(collect_on_click)\n",
    "\n",
    "metadata_text1 = widgets.Textarea(description='DICOM:', layout=widgets.Layout(width='100%', height='300px'))\n",
    "metadata_text2 = widgets.Textarea(description='Classification:', layout=widgets.Layout(width='100%', height='100px'))\n",
    "\n",
    "image_panel = widgets.Output(layout=widgets.Layout(width='50%', height='400px'))\n",
    "panel0=widgets.VBox([metadata_text1, metadata_text2],layout=widgets.Layout(width='50%', height='450px'))\n",
    "panel = widgets.HBox([panel0, image_panel])\n",
    "\n",
    "next_button = widgets.Button(description='Next')\n",
    "next_button_output=Output()\n",
    "\n",
    "# Function to handle \"Next\" button click\n",
    "num_clicked=0\n",
    "\n",
    "@next_button_output.capture(clear_output=True)\n",
    "def next_file(b):\n",
    "    global num_clicked    \n",
    "    global dicom_files\n",
    "    \n",
    "    next_button_output.clear_output()   \n",
    "    num_clicked+=1\n",
    "\n",
    "    global file_generator,file_types\n",
    "    try:\n",
    "        file_path=next(file_generator)\n",
    "        #print(file_path)\n",
    "        display_file(file_path)\n",
    "        dicom_files.append(file_path)\n",
    "        file_types.append(ontology_dropdown.value)\n",
    "        print(\"{}. {}\".format(num_clicked,file_path))\n",
    "    except StopIteration:\n",
    "        display(\"No more files.\")\n",
    "    except Exception as e:\n",
    "        print(f\"Error: {e}\".format(e))\n",
    "\n",
    "next_button.on_click(next_file)\n",
    "ontology_dropdown = widgets.Dropdown(description='Type:', options=[])\n",
    "finish_button = widgets.Button(description='Finish')\n",
    "finish_button_output = widgets.Output()\n",
    "\n",
    "# Function to handle \"Finish\" button click\n",
    "@finish_button_output.capture(clear_output=True)\n",
    "def finish(b): \n",
    "    try:\n",
    "        print('creating data frame')\n",
    "        #padded_file_types = file_types + [None] * (len(dicom_files) - len(file_types))\n",
    "    \n",
    "        df = pd.DataFrame({'files': dicom_files,\n",
    "                           'user_label': file_types})\n",
    "        \n",
    "        output_file = StringIO()\n",
    "        df.to_csv(output_file, index=False)\n",
    "        output_file.seek(0)\n",
    "        print ('creating link')\n",
    "        b64 = base64.b64encode(output_file.getvalue().encode()).decode()\n",
    "        href = f'<a href=\"data:application/octet-stream;base64,{b64}\" download=\"output.csv\">Download CSV</a>'\n",
    "        download_link.value = href\n",
    "        print('created link')\n",
    "        \n",
    "    except Exception as e: \n",
    "        print(\"Error: \", e)\n",
    "\n",
    "finish_button.on_click(finish)\n",
    "download_link = widgets.HTML()\n",
    "\n",
    "# Display widgets\n",
    "display(upload_button)\n",
    "display(upload_classification_button,upload_classification_button_output)\n",
    "display(text_input)\n",
    "display(collect_button,collect_button_output)\n",
    "display(panel)\n",
    "display(next_button,next_button_output)\n",
    "display(widgets.HBox([ontology_dropdown, finish_button]),finish_button_output)\n",
    "display(download_link)\n",
    "\n",
    "# Global variables\n",
    "ontology_types = []\n",
    "dicom_files = []\n",
    "current_index = 0\n",
    "file_types = []\n"
   ]
  },
  {
   "cell_type": "code",
   "execution_count": 3,
   "id": "fbeaa012-3412-4db7-bca5-ce6f4c310ab9",
   "metadata": {},
   "outputs": [
    {
     "data": {
      "text/plain": [
       "[]"
      ]
     },
     "execution_count": 3,
     "metadata": {},
     "output_type": "execute_result"
    }
   ],
   "source": [
    "dicom_files"
   ]
  },
  {
   "cell_type": "code",
   "execution_count": null,
   "id": "cdcee94b-5756-4b90-aa58-349d10bc068e",
   "metadata": {},
   "outputs": [],
   "source": []
  },
  {
   "cell_type": "code",
   "execution_count": null,
   "id": "39342512-d290-4bba-828e-3f9a7d57890e",
   "metadata": {},
   "outputs": [],
   "source": [
    "if 'M00047331_20130813160941/SCANS/5/DICOM/1.2.840.113654.2.45.6248.319051979901319095828515618067949491189-5-19-1d2860e.dcm' in classification_dict['files']:\n",
    "    print (1)"
   ]
  },
  {
   "cell_type": "code",
   "execution_count": null,
   "id": "049e7d6a-e867-48e2-8fc8-9146ccbaa49c",
   "metadata": {},
   "outputs": [],
   "source": [
    "dicom_files"
   ]
  },
  {
   "cell_type": "code",
   "execution_count": null,
   "id": "11ff2788-6b5b-4e49-a319-fe8cdaffeea5",
   "metadata": {},
   "outputs": [],
   "source": [
    "for column in df.columns:\n",
    "# Check the data type of the column and convert to list\n",
    "    if df[column].dtype == 'object':  # For strings\n",
    "        classification_dict[column] = df[column].astype(str).tolist()\n",
    "    else:  # For real numbers\n",
    "        classification_dict[column] = df[column].astype(float).tolist()"
   ]
  },
  {
   "cell_type": "code",
   "execution_count": null,
   "id": "177bdddc-a926-45ae-8185-ad1d6b1c3709",
   "metadata": {},
   "outputs": [],
   "source": [
    "from IPython.display import display\n",
    "from ipywidgets import widgets, Output\n",
    "@output.capture(clear_output=True)\n",
    "def on_button_clicked(b):\n",
    "    # Your code here\n",
    "    a=1/0\n",
    "    #print(\"Button clicked!\")\n",
    "    # If there's an exception, it will be captured and displayed too\n",
    "    # raise ValueError(\"Test exception\")\n",
    "output = Output()\n",
    "button = widgets.Button(description=\"Click Me\")\n",
    "button.on_click(on_button_clicked)\n",
    "display(button, output)"
   ]
  },
  {
   "cell_type": "code",
   "execution_count": null,
   "id": "b55be694-abe0-4978-9701-71ab0cf643cc",
   "metadata": {},
   "outputs": [],
   "source": [
    "padded_file_types"
   ]
  },
  {
   "cell_type": "code",
   "execution_count": null,
   "id": "218039f9-68f9-4de6-8fc8-a8d8cfbe2e50",
   "metadata": {},
   "outputs": [],
   "source": []
  }
 ],
 "metadata": {
  "kernelspec": {
   "display_name": "Python 3",
   "language": "python",
   "name": "python3"
  },
  "language_info": {
   "codemirror_mode": {
    "name": "ipython",
    "version": 3
   },
   "file_extension": ".py",
   "mimetype": "text/x-python",
   "name": "python",
   "nbconvert_exporter": "python",
   "pygments_lexer": "ipython3",
   "version": "3.8.17"
  }
 },
 "nbformat": 4,
 "nbformat_minor": 5
}
